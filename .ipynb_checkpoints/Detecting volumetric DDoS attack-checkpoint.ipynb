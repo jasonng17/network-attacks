{
 "cells": [
  {
   "cell_type": "markdown",
   "metadata": {},
   "source": [
    "### Detecting volumetric DDoS attack\n",
    "Author: Jason Ng"
   ]
  },
  {
   "cell_type": "markdown",
   "metadata": {},
   "source": [
    "The dataset used in this analysis is the CICIDS2017 dataset from Canadian Institute for Cybersecurity. The team generated benign network traffic using a profile system that abstracts behavior of human interactions and attack traffic generated from DDoS tools such as Hulk, GoldenEye and Low Orbit Ion Cannon (LOIC) - https://www.unb.ca/cic/datasets/ids-2017.html."
   ]
  },
  {
   "cell_type": "code",
   "execution_count": 1,
   "metadata": {},
   "outputs": [],
   "source": [
    "import pandas as pd\n",
    "import numpy as np\n",
    "import glob\n",
    "import time\n",
    "import matplotlib.pyplot as plt\n",
    "import seaborn as sn\n",
    "from sklearn.preprocessing import LabelEncoder\n",
    "from sklearn.model_selection import train_test_split\n",
    "from sklearn.ensemble import RandomForestClassifier\n",
    "from sklearn.metrics import confusion_matrix,classification_report\n",
    "SEED = 123"
   ]
  },
  {
   "cell_type": "code",
   "execution_count": 2,
   "metadata": {},
   "outputs": [
    {
     "name": "stderr",
     "output_type": "stream",
     "text": [
      "/home/darklord/anaconda3/lib/python3.7/site-packages/ipykernel_launcher.py:4: DtypeWarning: Columns (14,15) have mixed types. Specify dtype option on import or set low_memory=False.\n",
      "  after removing the cwd from sys.path.\n",
      "/home/darklord/anaconda3/lib/python3.7/site-packages/ipykernel_launcher.py:4: DtypeWarning: Columns (14) have mixed types. Specify dtype option on import or set low_memory=False.\n",
      "  after removing the cwd from sys.path.\n"
     ]
    }
   ],
   "source": [
    "# Load the data and perform cleaning\n",
    "datapath = \"/home/darklord/Downloads/CIC-IDS-2017/\"\n",
    "filelist = glob.glob(datapath+\"MachineLearningCVE/*\")\n",
    "traffic_df = pd.concat(pd.read_csv(filename) for filename in filelist).reset_index(drop=True)\n",
    "pd.set_option('mode.use_inf_as_na', True) # convert inf to nan\n",
    "traffic_df.columns = traffic_df.columns.str.strip()\n",
    "traffic_df.columns = traffic_df.columns.str.replace(\" \", \"_\")\n",
    "traffic_df['Flow_Bytes/s']=traffic_df['Flow_Bytes/s'].astype('float64')\n",
    "traffic_df['Flow_Packets/s']=traffic_df['Flow_Packets/s'].astype('float64')\n",
    "traffic_df['Flow_Bytes/s'].fillna(traffic_df['Flow_Bytes/s'].mean(),inplace=True)\n",
    "traffic_df['Flow_Packets/s'].fillna(traffic_df['Flow_Packets/s'].mean(),inplace=True)    "
   ]
  },
  {
   "cell_type": "code",
   "execution_count": 3,
   "metadata": {},
   "outputs": [
    {
     "name": "stdout",
     "output_type": "stream",
     "text": [
      "There are a total of 2830743 flows in the dataset\n"
     ]
    },
    {
     "data": {
      "text/html": [
       "<div>\n",
       "<style scoped>\n",
       "    .dataframe tbody tr th:only-of-type {\n",
       "        vertical-align: middle;\n",
       "    }\n",
       "\n",
       "    .dataframe tbody tr th {\n",
       "        vertical-align: top;\n",
       "    }\n",
       "\n",
       "    .dataframe thead th {\n",
       "        text-align: right;\n",
       "    }\n",
       "</style>\n",
       "<table border=\"1\" class=\"dataframe\">\n",
       "  <thead>\n",
       "    <tr style=\"text-align: right;\">\n",
       "      <th></th>\n",
       "      <th>Destination_Port</th>\n",
       "      <th>Flow_Duration</th>\n",
       "      <th>Total_Fwd_Packets</th>\n",
       "      <th>Total_Backward_Packets</th>\n",
       "      <th>Total_Length_of_Fwd_Packets</th>\n",
       "      <th>Total_Length_of_Bwd_Packets</th>\n",
       "      <th>Fwd_Packet_Length_Max</th>\n",
       "      <th>Fwd_Packet_Length_Min</th>\n",
       "      <th>Fwd_Packet_Length_Mean</th>\n",
       "      <th>Fwd_Packet_Length_Std</th>\n",
       "      <th>...</th>\n",
       "      <th>min_seg_size_forward</th>\n",
       "      <th>Active_Mean</th>\n",
       "      <th>Active_Std</th>\n",
       "      <th>Active_Max</th>\n",
       "      <th>Active_Min</th>\n",
       "      <th>Idle_Mean</th>\n",
       "      <th>Idle_Std</th>\n",
       "      <th>Idle_Max</th>\n",
       "      <th>Idle_Min</th>\n",
       "      <th>Label</th>\n",
       "    </tr>\n",
       "  </thead>\n",
       "  <tbody>\n",
       "    <tr>\n",
       "      <th>0</th>\n",
       "      <td>22</td>\n",
       "      <td>1266342</td>\n",
       "      <td>41</td>\n",
       "      <td>44</td>\n",
       "      <td>2664</td>\n",
       "      <td>6954</td>\n",
       "      <td>456</td>\n",
       "      <td>0</td>\n",
       "      <td>64.975610</td>\n",
       "      <td>109.864573</td>\n",
       "      <td>...</td>\n",
       "      <td>32</td>\n",
       "      <td>0.0</td>\n",
       "      <td>0.0</td>\n",
       "      <td>0</td>\n",
       "      <td>0</td>\n",
       "      <td>0.0</td>\n",
       "      <td>0.0</td>\n",
       "      <td>0</td>\n",
       "      <td>0</td>\n",
       "      <td>BENIGN</td>\n",
       "    </tr>\n",
       "    <tr>\n",
       "      <th>1</th>\n",
       "      <td>22</td>\n",
       "      <td>1319353</td>\n",
       "      <td>41</td>\n",
       "      <td>44</td>\n",
       "      <td>2664</td>\n",
       "      <td>6954</td>\n",
       "      <td>456</td>\n",
       "      <td>0</td>\n",
       "      <td>64.975610</td>\n",
       "      <td>109.864573</td>\n",
       "      <td>...</td>\n",
       "      <td>32</td>\n",
       "      <td>0.0</td>\n",
       "      <td>0.0</td>\n",
       "      <td>0</td>\n",
       "      <td>0</td>\n",
       "      <td>0.0</td>\n",
       "      <td>0.0</td>\n",
       "      <td>0</td>\n",
       "      <td>0</td>\n",
       "      <td>BENIGN</td>\n",
       "    </tr>\n",
       "    <tr>\n",
       "      <th>2</th>\n",
       "      <td>22</td>\n",
       "      <td>160</td>\n",
       "      <td>1</td>\n",
       "      <td>1</td>\n",
       "      <td>0</td>\n",
       "      <td>0</td>\n",
       "      <td>0</td>\n",
       "      <td>0</td>\n",
       "      <td>0.000000</td>\n",
       "      <td>0.000000</td>\n",
       "      <td>...</td>\n",
       "      <td>32</td>\n",
       "      <td>0.0</td>\n",
       "      <td>0.0</td>\n",
       "      <td>0</td>\n",
       "      <td>0</td>\n",
       "      <td>0.0</td>\n",
       "      <td>0.0</td>\n",
       "      <td>0</td>\n",
       "      <td>0</td>\n",
       "      <td>BENIGN</td>\n",
       "    </tr>\n",
       "    <tr>\n",
       "      <th>3</th>\n",
       "      <td>22</td>\n",
       "      <td>1303488</td>\n",
       "      <td>41</td>\n",
       "      <td>42</td>\n",
       "      <td>2728</td>\n",
       "      <td>6634</td>\n",
       "      <td>456</td>\n",
       "      <td>0</td>\n",
       "      <td>66.536585</td>\n",
       "      <td>110.129945</td>\n",
       "      <td>...</td>\n",
       "      <td>32</td>\n",
       "      <td>0.0</td>\n",
       "      <td>0.0</td>\n",
       "      <td>0</td>\n",
       "      <td>0</td>\n",
       "      <td>0.0</td>\n",
       "      <td>0.0</td>\n",
       "      <td>0</td>\n",
       "      <td>0</td>\n",
       "      <td>BENIGN</td>\n",
       "    </tr>\n",
       "    <tr>\n",
       "      <th>4</th>\n",
       "      <td>35396</td>\n",
       "      <td>77</td>\n",
       "      <td>1</td>\n",
       "      <td>2</td>\n",
       "      <td>0</td>\n",
       "      <td>0</td>\n",
       "      <td>0</td>\n",
       "      <td>0</td>\n",
       "      <td>0.000000</td>\n",
       "      <td>0.000000</td>\n",
       "      <td>...</td>\n",
       "      <td>32</td>\n",
       "      <td>0.0</td>\n",
       "      <td>0.0</td>\n",
       "      <td>0</td>\n",
       "      <td>0</td>\n",
       "      <td>0.0</td>\n",
       "      <td>0.0</td>\n",
       "      <td>0</td>\n",
       "      <td>0</td>\n",
       "      <td>BENIGN</td>\n",
       "    </tr>\n",
       "  </tbody>\n",
       "</table>\n",
       "<p>5 rows × 79 columns</p>\n",
       "</div>"
      ],
      "text/plain": [
       "   Destination_Port  Flow_Duration  Total_Fwd_Packets  Total_Backward_Packets  \\\n",
       "0                22        1266342                 41                      44   \n",
       "1                22        1319353                 41                      44   \n",
       "2                22            160                  1                       1   \n",
       "3                22        1303488                 41                      42   \n",
       "4             35396             77                  1                       2   \n",
       "\n",
       "   Total_Length_of_Fwd_Packets  Total_Length_of_Bwd_Packets  \\\n",
       "0                         2664                         6954   \n",
       "1                         2664                         6954   \n",
       "2                            0                            0   \n",
       "3                         2728                         6634   \n",
       "4                            0                            0   \n",
       "\n",
       "   Fwd_Packet_Length_Max  Fwd_Packet_Length_Min  Fwd_Packet_Length_Mean  \\\n",
       "0                    456                      0               64.975610   \n",
       "1                    456                      0               64.975610   \n",
       "2                      0                      0                0.000000   \n",
       "3                    456                      0               66.536585   \n",
       "4                      0                      0                0.000000   \n",
       "\n",
       "   Fwd_Packet_Length_Std  ...  min_seg_size_forward  Active_Mean  Active_Std  \\\n",
       "0             109.864573  ...                    32          0.0         0.0   \n",
       "1             109.864573  ...                    32          0.0         0.0   \n",
       "2               0.000000  ...                    32          0.0         0.0   \n",
       "3             110.129945  ...                    32          0.0         0.0   \n",
       "4               0.000000  ...                    32          0.0         0.0   \n",
       "\n",
       "   Active_Max  Active_Min  Idle_Mean  Idle_Std  Idle_Max  Idle_Min   Label  \n",
       "0           0           0        0.0       0.0         0         0  BENIGN  \n",
       "1           0           0        0.0       0.0         0         0  BENIGN  \n",
       "2           0           0        0.0       0.0         0         0  BENIGN  \n",
       "3           0           0        0.0       0.0         0         0  BENIGN  \n",
       "4           0           0        0.0       0.0         0         0  BENIGN  \n",
       "\n",
       "[5 rows x 79 columns]"
      ]
     },
     "execution_count": 3,
     "metadata": {},
     "output_type": "execute_result"
    }
   ],
   "source": [
    "print(\"There are a total of {} flows in the dataset\".format(len(traffic_df)))\n",
    "traffic_df.head()"
   ]
  },
  {
   "cell_type": "markdown",
   "metadata": {},
   "source": [
    "There are 78 features that are provided by the flow generator that was used to produce the dataset. \n",
    "The schema of the dataset can be found here - http://netflowmeter.ca/netflowmeter.html"
   ]
  },
  {
   "cell_type": "code",
   "execution_count": 4,
   "metadata": {},
   "outputs": [
    {
     "name": "stdout",
     "output_type": "stream",
     "text": [
      "BENIGN                        2273097\n",
      "DoS Hulk                       231073\n",
      "PortScan                       158930\n",
      "DDoS                           128027\n",
      "DoS GoldenEye                   10293\n",
      "FTP-Patator                      7938\n",
      "SSH-Patator                      5897\n",
      "DoS slowloris                    5796\n",
      "DoS Slowhttptest                 5499\n",
      "Bot                              1966\n",
      "Web Attack � Brute Force         1507\n",
      "Web Attack � XSS                  652\n",
      "Infiltration                       36\n",
      "Web Attack � Sql Injection         21\n",
      "Heartbleed                         11\n",
      "Name: Label, dtype: int64\n"
     ]
    }
   ],
   "source": [
    "# Visualise labels\n",
    "print(traffic_df.Label.value_counts())"
   ]
  },
  {
   "cell_type": "markdown",
   "metadata": {},
   "source": [
    "As seen in the label distribution, benign flows contribute to a large percentage of the dataset. This introduces the class imbalance problem, which we will show how we can address by using class weights in our model and down-sampling of the Benign class.\n",
    "\n",
    "The is a multi-class classification problem, but before we can apply the model, we need to first convert the class label into numbers. We will also remove the web attacks and heartbleed attacks as we are specifically only interested in evaluating DDoS detection."
   ]
  },
  {
   "cell_type": "code",
   "execution_count": 5,
   "metadata": {},
   "outputs": [
    {
     "name": "stdout",
     "output_type": "stream",
     "text": [
      "False\n",
      "The classes are: ['BENIGN' 'Bot' 'DDoS' 'DoS GoldenEye' 'DoS Hulk' 'DoS Slowhttptest'\n",
      " 'DoS slowloris' 'FTP-Patator' 'PortScan' 'SSH-Patator']\n"
     ]
    }
   ],
   "source": [
    "# Remove attack types that are non-DDoS\n",
    "categories_to_remove = [\"Web Attack � Brute Force\",\n",
    "                        \"Web Attack � XSS\",\n",
    "                        \"Infiltration\",\n",
    "                        \"Web Attack � Sql Injection\",\n",
    "                        \"Heartbleed\"]\n",
    "traffic_df = traffic_df[~traffic_df.isin(categories_to_remove)]\n",
    "\n",
    "# Clean up data without any labels\n",
    "traffic_df = traffic_df[~traffic_df.Label.isna()]\n",
    "# Sanity check if anymore missing values\n",
    "print(traffic_df.isnull().values.any())\n",
    "\n",
    "# Create labels\n",
    "LE = LabelEncoder()\n",
    "traffic_df['code'] = LE.fit_transform(traffic_df.Label)\n",
    "print(\"The classes are: {}\".format(LE.classes_))\n",
    "traffic_df.drop(['Label'], axis=1, inplace=True)"
   ]
  },
  {
   "cell_type": "markdown",
   "metadata": {},
   "source": [
    "We will use the Random Forest algorithm for classifying the type of attacks. Since Random Forest uses bootstrap, we will not be using validation set and will split the dataset into training and test set. We will fix the number of trees and tune the max_feature parameters. Increasing the number of trees will not increase the variance hence we will just set a large number of trees once we found the optimal for max_features."
   ]
  },
  {
   "cell_type": "code",
   "execution_count": 6,
   "metadata": {},
   "outputs": [],
   "source": [
    "# Split the data into training and test set\n",
    "x_train, x_test, y_train, y_test = train_test_split(traffic_df.iloc[:,0:-1], traffic_df['code'], test_size=0.3, random_state=SEED)"
   ]
  },
  {
   "cell_type": "code",
   "execution_count": null,
   "metadata": {},
   "outputs": [],
   "source": [
    "# Initialise Random Forest Model\n",
    "rf_clf = RandomForestClassifier(n_estimators=40,\n",
    "                       oob_score=True,\n",
    "                       class_weight=\"balanced\",\n",
    "                       n_jobs=-1,\n",
    "                       random_state=SEED)\n",
    "\n",
    "# Perform Grid search for the optimal params\n",
    "error_rate = []\n",
    "min_features = 1\n",
    "max_features = 78\n",
    "starttime = time.time()\n",
    "for i in np.linspace(min_features, max_features, 8, dtype=int):\n",
    "    print(\"Running with {} max_features\".format(i))\n",
    "    rf_clf.set_params(max_features=i)\n",
    "    rf_clf.fit(x_train, y_train)\n",
    "    oob_error = 1 - rf_clf.oob_score_\n",
    "    error_rate.append(oob_error)\n",
    "endtime = time.time()\n",
    "print(\"Classfier trained in {} minutes\".format(int(endtime-starttime//60)))"
   ]
  },
  {
   "cell_type": "code",
   "execution_count": null,
   "metadata": {},
   "outputs": [],
   "source": [
    "# Visualise the Out-of-Bag (OOB) Error\n",
    "plt.figure(figsize=(10,8))\n",
    "plt.plot(np.linspace(min_features, max_features, 8, dtype=int), error_rate)\n",
    "plt.xlabel(\"Num of features\")\n",
    "plt.ylabel(\"OOB error rate\")\n",
    "plt.show()"
   ]
  },
  {
   "cell_type": "markdown",
   "metadata": {},
   "source": [
    "From the OOB errors, we can observe that the lowest OOB occurs where number of features is around 55. Let's run Random Forest again, this time with the optimal parameters."
   ]
  },
  {
   "cell_type": "code",
   "execution_count": null,
   "metadata": {},
   "outputs": [],
   "source": [
    "# Run with best params\n",
    "rf_clf = RandomForestClassifier(n_estimators=80,\n",
    "                                oob_score=True,\n",
    "                                max_features=55,\n",
    "                                class_weight=\"balanced\",\n",
    "                                random_state=SEED)\n",
    "rf_clf.fit(x_train, y_train)\n",
    "\n",
    "# Plot feature importance\n",
    "features = traffic_df.columns[0:-1]\n",
    "importances = rf_clf.feature_importances_\n",
    "indices = np.argsort(importances)\n",
    "plt.figure(figsize=(8,15))\n",
    "plt.title('Feature Importances')\n",
    "plt.barh(range(len(indices)), importances[indices], color='b', align='center')\n",
    "plt.yticks(range(len(indices)), [features[i] for i in indices])\n",
    "plt.xlabel('Relative Importance')\n",
    "plt.show()"
   ]
  },
  {
   "cell_type": "markdown",
   "metadata": {},
   "source": []
  },
  {
   "cell_type": "code",
   "execution_count": null,
   "metadata": {},
   "outputs": [],
   "source": [
    "# Predict using test data\n",
    "y_predict = rf_clf.predict(x_test)\n",
    "cm = confusion_matrix(y_test, y_predict)\n",
    "df_cm = pd.DataFrame(cm, index = LE.classes_,\n",
    "              columns = LE.classes_)\n",
    "\n",
    "# Visualise the confusion matrix\n",
    "plt.figure(figsize = (10,7))\n",
    "sn.heatmap(df_cm, annot=True, fmt='d', cmap='Blues')\n",
    "plt.xlabel(\"True Value\")\n",
    "plt.ylabel(\"Predicted Value\")\n",
    "\n",
    "# Classification report\n",
    "print(classification_report(y_test, y_predict, target_names=LE.classes_))"
   ]
  },
  {
   "cell_type": "markdown",
   "metadata": {},
   "source": []
  }
 ],
 "metadata": {
  "kernelspec": {
   "display_name": "Python 3",
   "language": "python",
   "name": "python3"
  },
  "language_info": {
   "codemirror_mode": {
    "name": "ipython",
    "version": 3
   },
   "file_extension": ".py",
   "mimetype": "text/x-python",
   "name": "python",
   "nbconvert_exporter": "python",
   "pygments_lexer": "ipython3",
   "version": "3.7.3"
  }
 },
 "nbformat": 4,
 "nbformat_minor": 2
}
